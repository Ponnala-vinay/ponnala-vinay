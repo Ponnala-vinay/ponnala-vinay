{
 "cells": [
  {
   "cell_type": "markdown",
   "id": "fa13319d-425e-414a-b147-7a965f815ed0",
   "metadata": {},
   "source": [
    "#  Convolutional Neural Networks"
   ]
  },
  {
   "cell_type": "code",
   "execution_count": 2,
   "id": "7f96b2af-1d2e-4fd2-8c9f-2e8cad495b82",
   "metadata": {},
   "outputs": [],
   "source": [
    "import tensorflow"
   ]
  },
  {
   "cell_type": "code",
   "execution_count": 3,
   "id": "315c6647-9efb-4bba-b1c7-cd31c65df041",
   "metadata": {},
   "outputs": [],
   "source": [
    "# data path https://data.caltech.edu/records/mzrjq-6wc02"
   ]
  },
  {
   "cell_type": "code",
   "execution_count": 4,
   "id": "79dc5768-c120-47f3-a92d-9299dff9eb67",
   "metadata": {},
   "outputs": [],
   "source": [
    "# Import necessary libraries from TensorFlow and Keras\n",
    "from tensorflow.keras.models import Sequential  # Sequential model allows for a linear stack of layers\n",
    "from tensorflow.keras.layers import Conv2D      # Conv2D layer for applying convolutional filters to the input\n",
    "from tensorflow.keras.layers import MaxPooling2D # MaxPooling2D layer for reducing the spatial dimensions of the input\n",
    "from tensorflow.keras.layers import Flatten     # Flatten layer for converting 2D matrices into a vector\n",
    "from tensorflow.keras.layers import Dense       # Dense layer for fully connected layers in the neural network\n"
   ]
  },
  {
   "cell_type": "markdown",
   "id": "e934db13-82c0-418e-92fa-a40f41f04581",
   "metadata": {},
   "source": [
    "# Building a Convolutional Neural Network with Keras"
   ]
  },
  {
   "cell_type": "code",
   "execution_count": 6,
   "id": "05a7ee36-5187-47e2-aeb4-19867516b3c1",
   "metadata": {},
   "outputs": [
    {
     "name": "stderr",
     "output_type": "stream",
     "text": [
      "C:\\Users\\ponna\\anaconda3\\Lib\\site-packages\\keras\\src\\layers\\convolutional\\base_conv.py:107: UserWarning: Do not pass an `input_shape`/`input_dim` argument to a layer. When using Sequential models, prefer using an `Input(shape)` object as the first layer in the model instead.\n",
      "  super().__init__(activity_regularizer=activity_regularizer, **kwargs)\n"
     ]
    }
   ],
   "source": [
    "# Initialising the CNN\n",
    "classifier = Sequential()\n",
    "\n",
    "# Step 1 - Convolution\n",
    "classifier.add(Conv2D(32, (3, 3), input_shape = (256, 256, 3), activation = 'relu'))\n",
    "\n",
    "# Step 2 - Pooling\n",
    "classifier.add(MaxPooling2D(pool_size = (2, 2)))\n",
    "\n",
    "# Adding a second convolutional layer\n",
    "classifier.add(Conv2D(32, (3, 3), activation = 'relu'))\n",
    "classifier.add(MaxPooling2D(pool_size = (2, 2)))\n",
    "\n",
    "# Step 3 - Flattening\n",
    "classifier.add(Flatten())\n",
    "\n",
    "# Step 4 - Full connection\n",
    "classifier.add(Dense(units = 128, activation = 'relu'))\n",
    "classifier.add(Dense(units = 1, activation = 'sigmoid'))\n",
    "\n",
    "# Compiling the CNN\n",
    "classifier.compile(optimizer = 'adam', loss = 'binary_crossentropy', metrics = ['accuracy'])"
   ]
  },
  {
   "cell_type": "markdown",
   "id": "b2fdba64-8f09-4500-9977-2a7b4fe2fd05",
   "metadata": {},
   "source": [
    "# Image Data Preprocessing with Keras"
   ]
  },
  {
   "cell_type": "code",
   "execution_count": 8,
   "id": "6db028ad-f0a9-40a6-be03-e39fcce16537",
   "metadata": {},
   "outputs": [],
   "source": [
    "# Import the ImageDataGenerator class from Keras\n",
    "from tensorflow.keras.preprocessing.image import ImageDataGenerator\n",
    "\n",
    "# Data augmentation for the training set\n",
    "train_datagen = ImageDataGenerator(\n",
    "    rescale = 1./255,        # Rescale pixel values to range [0, 1]\n",
    "    shear_range = 0.2,       # Randomly apply shearing transformations\n",
    "    zoom_range = 0.2,        # Randomly zoom in on images\n",
    "    horizontal_flip = True   # Randomly flip images horizontally\n",
    ")\n",
    "\n",
    "# Rescaling the test/validation set (no augmentation)\n",
    "test_datagen = ImageDataGenerator(\n",
    "    rescale = 1./255         # Rescale pixel values to range [0, 1]\n",
    ")\n"
   ]
  },
  {
   "cell_type": "markdown",
   "id": "83e29c8e-6597-4a19-9bcb-1378d7c745b2",
   "metadata": {},
   "source": [
    "# Loading and Preprocessing the Training Data"
   ]
  },
  {
   "cell_type": "code",
   "execution_count": 10,
   "id": "59dea476-d43c-47fd-8f5a-e70038dfdfac",
   "metadata": {},
   "outputs": [
    {
     "name": "stdout",
     "output_type": "stream",
     "text": [
      "Found 38 images belonging to 4 classes.\n"
     ]
    }
   ],
   "source": [
    "# Creating the training set from the directory\n",
    "training_set = train_datagen.flow_from_directory(\n",
    "    'C:\\\\Users\\\\ponna\\\\OneDrive\\\\Desktop\\\\train',  # Path to the training data directory\n",
    "    target_size = (256, 256),                      # Resize all images to 256x256 pixels\n",
    "    batch_size = 32,                               # Number of images to be yielded from the generator per batch\n",
    "    class_mode = 'binary'                          # Specify binary classification (e.g., two classes)\n",
    ")\n"
   ]
  },
  {
   "cell_type": "markdown",
   "id": "2571ee9d-8541-474a-9c01-d653c96ede81",
   "metadata": {},
   "source": [
    "# Loading and Preprocessing the Test Data"
   ]
  },
  {
   "cell_type": "code",
   "execution_count": 12,
   "id": "d6c3fff3-1760-475c-9473-97bad4807dd1",
   "metadata": {},
   "outputs": [
    {
     "name": "stdout",
     "output_type": "stream",
     "text": [
      "Found 38 images belonging to 4 classes.\n"
     ]
    }
   ],
   "source": [
    "# Creating the test set from the directory\n",
    "test_set = test_datagen.flow_from_directory(\n",
    "    'C:\\\\Users\\\\ponna\\\\OneDrive\\\\Desktop\\\\test',  # Path to the test data directory\n",
    "    target_size = (256, 256),                     # Resize all images to 256x256 pixels\n",
    "    batch_size = 32,                              # Number of images to be yielded from the generator per batch\n",
    "    class_mode = 'binary'                         # Specify binary classification (e.g., cat vs. dog)\n",
    ")\n"
   ]
  },
  {
   "cell_type": "markdown",
   "id": "c4412ef5-25d7-4fb6-b1a4-358539b4f847",
   "metadata": {},
   "source": [
    "# Training the CNN Model\n"
   ]
  },
  {
   "cell_type": "code",
   "execution_count": 14,
   "id": "5db8a4ef-06fd-414c-bad1-ed0e034f4e73",
   "metadata": {},
   "outputs": [
    {
     "name": "stdout",
     "output_type": "stream",
     "text": [
      "Epoch 1/50\n"
     ]
    },
    {
     "name": "stderr",
     "output_type": "stream",
     "text": [
      "C:\\Users\\ponna\\anaconda3\\Lib\\site-packages\\keras\\src\\trainers\\data_adapters\\py_dataset_adapter.py:121: UserWarning: Your `PyDataset` class should call `super().__init__(**kwargs)` in its constructor. `**kwargs` can include `workers`, `use_multiprocessing`, `max_queue_size`. Do not pass these arguments to `fit()`, as they will be ignored.\n",
      "  self._warn_if_super_not_called()\n"
     ]
    },
    {
     "name": "stdout",
     "output_type": "stream",
     "text": [
      "\u001b[1m 2/80\u001b[0m \u001b[37m━━━━━━━━━━━━━━━━━━━━\u001b[0m \u001b[1m17s\u001b[0m 221ms/step - accuracy: 0.2697 - loss: -3.0873"
     ]
    },
    {
     "name": "stderr",
     "output_type": "stream",
     "text": [
      "C:\\Users\\ponna\\anaconda3\\Lib\\contextlib.py:158: UserWarning: Your input ran out of data; interrupting training. Make sure that your dataset or generator can generate at least `steps_per_epoch * epochs` batches. You may need to use the `.repeat()` function when building your dataset.\n",
      "  self.gen.throw(value)\n"
     ]
    },
    {
     "name": "stdout",
     "output_type": "stream",
     "text": [
      "\u001b[1m80/80\u001b[0m \u001b[32m━━━━━━━━━━━━━━━━━━━━\u001b[0m\u001b[37m\u001b[0m \u001b[1m3s\u001b[0m 12ms/step - accuracy: 0.2890 - loss: -6.7973 - val_accuracy: 0.2632 - val_loss: -58.7959\n",
      "Epoch 2/50\n",
      "\u001b[1m80/80\u001b[0m \u001b[32m━━━━━━━━━━━━━━━━━━━━\u001b[0m\u001b[37m\u001b[0m \u001b[1m1s\u001b[0m 5ms/step - accuracy: 0.2638 - loss: -47.3419 - val_accuracy: 0.2632 - val_loss: -153.9881\n",
      "Epoch 3/50\n",
      "\u001b[1m80/80\u001b[0m \u001b[32m━━━━━━━━━━━━━━━━━━━━\u001b[0m\u001b[37m\u001b[0m \u001b[1m1s\u001b[0m 4ms/step - accuracy: 0.2634 - loss: -120.9385 - val_accuracy: 0.2632 - val_loss: -320.6808\n",
      "Epoch 4/50\n",
      "\u001b[1m80/80\u001b[0m \u001b[32m━━━━━━━━━━━━━━━━━━━━\u001b[0m\u001b[37m\u001b[0m \u001b[1m1s\u001b[0m 8ms/step - accuracy: 0.2640 - loss: -290.6062 - val_accuracy: 0.2632 - val_loss: -581.5511\n",
      "Epoch 5/50\n",
      "\u001b[1m80/80\u001b[0m \u001b[32m━━━━━━━━━━━━━━━━━━━━\u001b[0m\u001b[37m\u001b[0m \u001b[1m1s\u001b[0m 8ms/step - accuracy: 0.2661 - loss: -499.3484 - val_accuracy: 0.2632 - val_loss: -984.1537\n",
      "Epoch 6/50\n",
      "\u001b[1m80/80\u001b[0m \u001b[32m━━━━━━━━━━━━━━━━━━━━\u001b[0m\u001b[37m\u001b[0m \u001b[1m1s\u001b[0m 8ms/step - accuracy: 0.2640 - loss: -868.7416 - val_accuracy: 0.2632 - val_loss: -1450.9072\n",
      "Epoch 7/50\n",
      "\u001b[1m80/80\u001b[0m \u001b[32m━━━━━━━━━━━━━━━━━━━━\u001b[0m\u001b[37m\u001b[0m \u001b[1m1s\u001b[0m 4ms/step - accuracy: 0.2634 - loss: -1055.9886 - val_accuracy: 0.2632 - val_loss: -2201.3303\n",
      "Epoch 8/50\n",
      "\u001b[1m80/80\u001b[0m \u001b[32m━━━━━━━━━━━━━━━━━━━━\u001b[0m\u001b[37m\u001b[0m \u001b[1m1s\u001b[0m 5ms/step - accuracy: 0.2630 - loss: -1708.5026 - val_accuracy: 0.2632 - val_loss: -3333.7209\n",
      "Epoch 9/50\n",
      "\u001b[1m80/80\u001b[0m \u001b[32m━━━━━━━━━━━━━━━━━━━━\u001b[0m\u001b[37m\u001b[0m \u001b[1m1s\u001b[0m 8ms/step - accuracy: 0.2620 - loss: -2952.9243 - val_accuracy: 0.2632 - val_loss: -4998.3955\n",
      "Epoch 10/50\n",
      "\u001b[1m80/80\u001b[0m \u001b[32m━━━━━━━━━━━━━━━━━━━━\u001b[0m\u001b[37m\u001b[0m \u001b[1m1s\u001b[0m 8ms/step - accuracy: 0.2640 - loss: -4206.6470 - val_accuracy: 0.2632 - val_loss: -7303.1572\n",
      "Epoch 11/50\n",
      "\u001b[1m80/80\u001b[0m \u001b[32m━━━━━━━━━━━━━━━━━━━━\u001b[0m\u001b[37m\u001b[0m \u001b[1m1s\u001b[0m 5ms/step - accuracy: 0.2634 - loss: -5283.8945 - val_accuracy: 0.2632 - val_loss: -10591.9736\n",
      "Epoch 12/50\n",
      "\u001b[1m80/80\u001b[0m \u001b[32m━━━━━━━━━━━━━━━━━━━━\u001b[0m\u001b[37m\u001b[0m \u001b[1m1s\u001b[0m 5ms/step - accuracy: 0.2634 - loss: -7913.9102 - val_accuracy: 0.2632 - val_loss: -15047.8994\n",
      "Epoch 13/50\n",
      "\u001b[1m80/80\u001b[0m \u001b[32m━━━━━━━━━━━━━━━━━━━━\u001b[0m\u001b[37m\u001b[0m \u001b[1m1s\u001b[0m 8ms/step - accuracy: 0.2640 - loss: -12383.4629 - val_accuracy: 0.2632 - val_loss: -20470.9941\n",
      "Epoch 14/50\n",
      "\u001b[1m80/80\u001b[0m \u001b[32m━━━━━━━━━━━━━━━━━━━━\u001b[0m\u001b[37m\u001b[0m \u001b[1m1s\u001b[0m 8ms/step - accuracy: 0.2620 - loss: -16825.1328 - val_accuracy: 0.2632 - val_loss: -27718.1387\n",
      "Epoch 15/50\n",
      "\u001b[1m80/80\u001b[0m \u001b[32m━━━━━━━━━━━━━━━━━━━━\u001b[0m\u001b[37m\u001b[0m \u001b[1m1s\u001b[0m 8ms/step - accuracy: 0.2620 - loss: -22871.0762 - val_accuracy: 0.2632 - val_loss: -37519.7148\n",
      "Epoch 16/50\n",
      "\u001b[1m80/80\u001b[0m \u001b[32m━━━━━━━━━━━━━━━━━━━━\u001b[0m\u001b[37m\u001b[0m \u001b[1m1s\u001b[0m 5ms/step - accuracy: 0.2638 - loss: -29584.4238 - val_accuracy: 0.2632 - val_loss: -50435.0742\n",
      "Epoch 17/50\n",
      "\u001b[1m80/80\u001b[0m \u001b[32m━━━━━━━━━━━━━━━━━━━━\u001b[0m\u001b[37m\u001b[0m \u001b[1m1s\u001b[0m 8ms/step - accuracy: 0.2620 - loss: -39823.4336 - val_accuracy: 0.2632 - val_loss: -64155.3633\n",
      "Epoch 18/50\n",
      "\u001b[1m80/80\u001b[0m \u001b[32m━━━━━━━━━━━━━━━━━━━━\u001b[0m\u001b[37m\u001b[0m \u001b[1m1s\u001b[0m 5ms/step - accuracy: 0.2634 - loss: -47412.3828 - val_accuracy: 0.2632 - val_loss: -82334.4375\n",
      "Epoch 19/50\n",
      "\u001b[1m80/80\u001b[0m \u001b[32m━━━━━━━━━━━━━━━━━━━━\u001b[0m\u001b[37m\u001b[0m \u001b[1m1s\u001b[0m 4ms/step - accuracy: 0.2634 - loss: -62025.3867 - val_accuracy: 0.2632 - val_loss: -105982.6953\n",
      "Epoch 20/50\n",
      "\u001b[1m80/80\u001b[0m \u001b[32m━━━━━━━━━━━━━━━━━━━━\u001b[0m\u001b[37m\u001b[0m \u001b[1m1s\u001b[0m 9ms/step - accuracy: 0.2640 - loss: -83166.2344 - val_accuracy: 0.2632 - val_loss: -130976.3516\n",
      "Epoch 21/50\n",
      "\u001b[1m80/80\u001b[0m \u001b[32m━━━━━━━━━━━━━━━━━━━━\u001b[0m\u001b[37m\u001b[0m \u001b[1m1s\u001b[0m 8ms/step - accuracy: 0.2640 - loss: -106062.7500 - val_accuracy: 0.2632 - val_loss: -161783.3750\n",
      "Epoch 22/50\n",
      "\u001b[1m80/80\u001b[0m \u001b[32m━━━━━━━━━━━━━━━━━━━━\u001b[0m\u001b[37m\u001b[0m \u001b[1m1s\u001b[0m 5ms/step - accuracy: 0.2634 - loss: -121371.4219 - val_accuracy: 0.2632 - val_loss: -201696.8906\n",
      "Epoch 23/50\n",
      "\u001b[1m80/80\u001b[0m \u001b[32m━━━━━━━━━━━━━━━━━━━━\u001b[0m\u001b[37m\u001b[0m \u001b[1m1s\u001b[0m 9ms/step - accuracy: 0.2620 - loss: -158512.3438 - val_accuracy: 0.2632 - val_loss: -252336.2656\n",
      "Epoch 24/50\n",
      "\u001b[1m80/80\u001b[0m \u001b[32m━━━━━━━━━━━━━━━━━━━━\u001b[0m\u001b[37m\u001b[0m \u001b[1m1s\u001b[0m 9ms/step - accuracy: 0.2599 - loss: -193504.8906 - val_accuracy: 0.2632 - val_loss: -314403.5312\n",
      "Epoch 25/50\n",
      "\u001b[1m80/80\u001b[0m \u001b[32m━━━━━━━━━━━━━━━━━━━━\u001b[0m\u001b[37m\u001b[0m \u001b[1m1s\u001b[0m 8ms/step - accuracy: 0.2620 - loss: -263157.6562 - val_accuracy: 0.2632 - val_loss: -390104.7500\n",
      "Epoch 26/50\n",
      "\u001b[1m80/80\u001b[0m \u001b[32m━━━━━━━━━━━━━━━━━━━━\u001b[0m\u001b[37m\u001b[0m \u001b[1m1s\u001b[0m 5ms/step - accuracy: 0.2638 - loss: -282984.3438 - val_accuracy: 0.2632 - val_loss: -480852.1562\n",
      "Epoch 27/50\n",
      "\u001b[1m80/80\u001b[0m \u001b[32m━━━━━━━━━━━━━━━━━━━━\u001b[0m\u001b[37m\u001b[0m \u001b[1m1s\u001b[0m 5ms/step - accuracy: 0.2634 - loss: -340882.9688 - val_accuracy: 0.2632 - val_loss: -589089.9375\n",
      "Epoch 28/50\n",
      "\u001b[1m80/80\u001b[0m \u001b[32m━━━━━━━━━━━━━━━━━━━━\u001b[0m\u001b[37m\u001b[0m \u001b[1m1s\u001b[0m 8ms/step - accuracy: 0.2640 - loss: -449461.4688 - val_accuracy: 0.2632 - val_loss: -717898.7500\n",
      "Epoch 29/50\n",
      "\u001b[1m80/80\u001b[0m \u001b[32m━━━━━━━━━━━━━━━━━━━━\u001b[0m\u001b[37m\u001b[0m \u001b[1m1s\u001b[0m 5ms/step - accuracy: 0.2626 - loss: -527351.7500 - val_accuracy: 0.2632 - val_loss: -869170.5625\n",
      "Epoch 30/50\n",
      "\u001b[1m80/80\u001b[0m \u001b[32m━━━━━━━━━━━━━━━━━━━━\u001b[0m\u001b[37m\u001b[0m \u001b[1m1s\u001b[0m 5ms/step - accuracy: 0.2630 - loss: -662132.4375 - val_accuracy: 0.2632 - val_loss: -1039014.7500\n",
      "Epoch 31/50\n",
      "\u001b[1m80/80\u001b[0m \u001b[32m━━━━━━━━━━━━━━━━━━━━\u001b[0m\u001b[37m\u001b[0m \u001b[1m1s\u001b[0m 8ms/step - accuracy: 0.2640 - loss: -805625.3125 - val_accuracy: 0.2632 - val_loss: -1234319.0000\n",
      "Epoch 32/50\n",
      "\u001b[1m80/80\u001b[0m \u001b[32m━━━━━━━━━━━━━━━━━━━━\u001b[0m\u001b[37m\u001b[0m \u001b[1m1s\u001b[0m 5ms/step - accuracy: 0.2630 - loss: -903735.5000 - val_accuracy: 0.2632 - val_loss: -1446018.8750\n",
      "Epoch 33/50\n",
      "\u001b[1m80/80\u001b[0m \u001b[32m━━━━━━━━━━━━━━━━━━━━\u001b[0m\u001b[37m\u001b[0m \u001b[1m1s\u001b[0m 8ms/step - accuracy: 0.2682 - loss: -1132255.2500 - val_accuracy: 0.2632 - val_loss: -1662502.5000\n",
      "Epoch 34/50\n",
      "\u001b[1m80/80\u001b[0m \u001b[32m━━━━━━━━━━━━━━━━━━━━\u001b[0m\u001b[37m\u001b[0m \u001b[1m1s\u001b[0m 8ms/step - accuracy: 0.2599 - loss: -1298963.6250 - val_accuracy: 0.2632 - val_loss: -1922293.0000\n",
      "Epoch 35/50\n",
      "\u001b[1m80/80\u001b[0m \u001b[32m━━━━━━━━━━━━━━━━━━━━\u001b[0m\u001b[37m\u001b[0m \u001b[1m1s\u001b[0m 8ms/step - accuracy: 0.2620 - loss: -1510600.2500 - val_accuracy: 0.2632 - val_loss: -2228638.2500\n",
      "Epoch 36/50\n",
      "\u001b[1m80/80\u001b[0m \u001b[32m━━━━━━━━━━━━━━━━━━━━\u001b[0m\u001b[37m\u001b[0m \u001b[1m1s\u001b[0m 9ms/step - accuracy: 0.2640 - loss: -1774652.3750 - val_accuracy: 0.2632 - val_loss: -2558726.0000\n",
      "Epoch 37/50\n",
      "\u001b[1m80/80\u001b[0m \u001b[32m━━━━━━━━━━━━━━━━━━━━\u001b[0m\u001b[37m\u001b[0m \u001b[1m1s\u001b[0m 5ms/step - accuracy: 0.2634 - loss: -1784670.7500 - val_accuracy: 0.2632 - val_loss: -2897647.2500\n",
      "Epoch 38/50\n",
      "\u001b[1m80/80\u001b[0m \u001b[32m━━━━━━━━━━━━━━━━━━━━\u001b[0m\u001b[37m\u001b[0m \u001b[1m1s\u001b[0m 8ms/step - accuracy: 0.2620 - loss: -2107866.7500 - val_accuracy: 0.2632 - val_loss: -3234724.2500\n",
      "Epoch 39/50\n",
      "\u001b[1m80/80\u001b[0m \u001b[32m━━━━━━━━━━━━━━━━━━━━\u001b[0m\u001b[37m\u001b[0m \u001b[1m1s\u001b[0m 8ms/step - accuracy: 0.2661 - loss: -2589422.5000 - val_accuracy: 0.2632 - val_loss: -3650683.0000\n",
      "Epoch 40/50\n",
      "\u001b[1m80/80\u001b[0m \u001b[32m━━━━━━━━━━━━━━━━━━━━\u001b[0m\u001b[37m\u001b[0m \u001b[1m1s\u001b[0m 8ms/step - accuracy: 0.2661 - loss: -2768044.0000 - val_accuracy: 0.2632 - val_loss: -4129715.2500\n",
      "Epoch 41/50\n",
      "\u001b[1m80/80\u001b[0m \u001b[32m━━━━━━━━━━━━━━━━━━━━\u001b[0m\u001b[37m\u001b[0m \u001b[1m1s\u001b[0m 8ms/step - accuracy: 0.2682 - loss: -3238694.7500 - val_accuracy: 0.2632 - val_loss: -4623401.5000\n",
      "Epoch 42/50\n",
      "\u001b[1m80/80\u001b[0m \u001b[32m━━━━━━━━━━━━━━━━━━━━\u001b[0m\u001b[37m\u001b[0m \u001b[1m1s\u001b[0m 5ms/step - accuracy: 0.2638 - loss: -3540153.5000 - val_accuracy: 0.2632 - val_loss: -5189363.5000\n",
      "Epoch 43/50\n",
      "\u001b[1m80/80\u001b[0m \u001b[32m━━━━━━━━━━━━━━━━━━━━\u001b[0m\u001b[37m\u001b[0m \u001b[1m1s\u001b[0m 5ms/step - accuracy: 0.2630 - loss: -3861551.2500 - val_accuracy: 0.2632 - val_loss: -5809834.0000\n",
      "Epoch 44/50\n",
      "\u001b[1m80/80\u001b[0m \u001b[32m━━━━━━━━━━━━━━━━━━━━\u001b[0m\u001b[37m\u001b[0m \u001b[1m1s\u001b[0m 5ms/step - accuracy: 0.2630 - loss: -4251010.0000 - val_accuracy: 0.2632 - val_loss: -6494815.5000\n",
      "Epoch 45/50\n",
      "\u001b[1m80/80\u001b[0m \u001b[32m━━━━━━━━━━━━━━━━━━━━\u001b[0m\u001b[37m\u001b[0m \u001b[1m1s\u001b[0m 8ms/step - accuracy: 0.2640 - loss: -4993150.0000 - val_accuracy: 0.2632 - val_loss: -7290988.0000\n",
      "Epoch 46/50\n",
      "\u001b[1m80/80\u001b[0m \u001b[32m━━━━━━━━━━━━━━━━━━━━\u001b[0m\u001b[37m\u001b[0m \u001b[1m1s\u001b[0m 8ms/step - accuracy: 0.2620 - loss: -5374584.5000 - val_accuracy: 0.2632 - val_loss: -8159153.0000\n",
      "Epoch 47/50\n",
      "\u001b[1m80/80\u001b[0m \u001b[32m━━━━━━━━━━━━━━━━━━━━\u001b[0m\u001b[37m\u001b[0m \u001b[1m1s\u001b[0m 8ms/step - accuracy: 0.2640 - loss: -6221549.0000 - val_accuracy: 0.2632 - val_loss: -9036257.0000\n",
      "Epoch 48/50\n",
      "\u001b[1m80/80\u001b[0m \u001b[32m━━━━━━━━━━━━━━━━━━━━\u001b[0m\u001b[37m\u001b[0m \u001b[1m1s\u001b[0m 5ms/step - accuracy: 0.2626 - loss: -6987677.5000 - val_accuracy: 0.2632 - val_loss: -9997954.0000\n",
      "Epoch 49/50\n",
      "\u001b[1m80/80\u001b[0m \u001b[32m━━━━━━━━━━━━━━━━━━━━\u001b[0m\u001b[37m\u001b[0m \u001b[1m1s\u001b[0m 8ms/step - accuracy: 0.2599 - loss: -7350345.0000 - val_accuracy: 0.2632 - val_loss: -11087000.0000\n",
      "Epoch 50/50\n",
      "\u001b[1m80/80\u001b[0m \u001b[32m━━━━━━━━━━━━━━━━━━━━\u001b[0m\u001b[37m\u001b[0m \u001b[1m1s\u001b[0m 8ms/step - accuracy: 0.2620 - loss: -7707856.5000 - val_accuracy: 0.2632 - val_loss: -12176861.0000\n"
     ]
    },
    {
     "data": {
      "text/plain": [
       "<keras.src.callbacks.history.History at 0x2723c5d3560>"
      ]
     },
     "execution_count": 14,
     "metadata": {},
     "output_type": "execute_result"
    }
   ],
   "source": [
    "# Training the CNN model\n",
    "classifier.fit(\n",
    "    training_set,                     # Generator for training data\n",
    "    steps_per_epoch = 80,             # Number of steps (batches) to run per epoch\n",
    "    epochs = 50,                      # Total number of epochs for training\n",
    "    validation_data = test_set,       # Generator for validation data\n",
    "    validation_steps = 80             # Number of validation steps (batches) per epoch\n",
    ")"
   ]
  },
  {
   "cell_type": "markdown",
   "id": "59f98753-cd42-4466-945a-0b856be6d87d",
   "metadata": {},
   "source": [
    "# Making Predictions with the CNN Model"
   ]
  },
  {
   "cell_type": "code",
   "execution_count": 16,
   "id": "0afff5d4-eeb0-46f6-a55d-8cdcab9eebdc",
   "metadata": {},
   "outputs": [
    {
     "name": "stdout",
     "output_type": "stream",
     "text": [
      "\u001b[1m1/1\u001b[0m \u001b[32m━━━━━━━━━━━━━━━━━━━━\u001b[0m\u001b[37m\u001b[0m \u001b[1m0s\u001b[0m 113ms/step\n"
     ]
    }
   ],
   "source": [
    "import numpy as np\n",
    "from keras.preprocessing import image\n",
    "\n",
    "# Load the image from the specified path and resize it to the target size (256x256 pixels)\n",
    "test_image = image.load_img('C:/Users/ponna/OneDrive/Desktop/images/cup/image_0046.jpg', target_size=(256, 256))\n",
    "\n",
    "# Convert the loaded image to a numpy array\n",
    "test_image = image.img_to_array(test_image)\n",
    "\n",
    "# Expand the dimensions of the image to match the input shape expected by the model (e.g., (1, 256, 256, 3))\n",
    "test_image = np.expand_dims(test_image, axis=0)\n",
    "\n",
    "# Use the trained model (classifier) to predict the class of the input image\n",
    "result = classifier.predict(test_image)\n"
   ]
  },
  {
   "cell_type": "code",
   "execution_count": 17,
   "id": "56061abf-ef38-4131-bf95-71244cb92209",
   "metadata": {},
   "outputs": [
    {
     "data": {
      "text/plain": [
       "array([[1.]], dtype=float32)"
      ]
     },
     "execution_count": 17,
     "metadata": {},
     "output_type": "execute_result"
    }
   ],
   "source": [
    "result"
   ]
  },
  {
   "cell_type": "code",
   "execution_count": 25,
   "id": "30aacd67-0064-4a3b-a030-806b6e5a2e37",
   "metadata": {},
   "outputs": [
    {
     "ename": "SyntaxError",
     "evalue": "(unicode error) 'unicodeescape' codec can't decode bytes in position 2-3: truncated \\UXXXXXXXX escape (1476949170.py, line 5)",
     "output_type": "error",
     "traceback": [
      "\u001b[1;36m  Cell \u001b[1;32mIn[25], line 5\u001b[1;36m\u001b[0m\n\u001b[1;33m    test_image = image.load_img('C:\\Users\\ponna\\OneDrive\\Desktop\\images\\airplanes\\image_0002.jpg', target_size=(256, 256))\u001b[0m\n\u001b[1;37m                                ^\u001b[0m\n\u001b[1;31mSyntaxError\u001b[0m\u001b[1;31m:\u001b[0m (unicode error) 'unicodeescape' codec can't decode bytes in position 2-3: truncated \\UXXXXXXXX escape\n"
     ]
    }
   ],
   "source": [
    "import numpy as np\n",
    "from keras.preprocessing import image\n",
    "\n",
    "# Load the image from the specified path and resize it to the target size (256x256 pixels)\n",
    "test_image = image.load_img('C:\\\\Users\\\\ponna\\\\OneDrive\\\\Desktop\\\\images\\\\airplanes\\image_0002.jpg', target_size=(256, 256))\n",
    "\n",
    "# Convert the loaded image to a numpy array\n",
    "test_image = image.img_to_array(test_image)\n",
    "\n",
    "# Expand the dimensions of the image to match the input shape expected by the model (e.g., (1, 256, 256, 3))\n",
    "test_image = np.expand_dims(test_image, axis=0)\n",
    "\n",
    "# Use the trained model (classifier) to predict the class of the input image\n",
    "result = classifier.predict(test_image)\n"
   ]
  },
  {
   "cell_type": "code",
   "execution_count": null,
   "id": "3974e5ff-a483-4fbf-8e82-7c7dd271c1d5",
   "metadata": {},
   "outputs": [],
   "source": [
    "print(result)"
   ]
  },
  {
   "cell_type": "code",
   "execution_count": null,
   "id": "bafbe8c5-c002-4143-9ac7-4e6a7deb9536",
   "metadata": {},
   "outputs": [],
   "source": []
  }
 ],
 "metadata": {
  "kernelspec": {
   "display_name": "Python 3 (ipykernel)",
   "language": "python",
   "name": "python3"
  },
  "language_info": {
   "codemirror_mode": {
    "name": "ipython",
    "version": 3
   },
   "file_extension": ".py",
   "mimetype": "text/x-python",
   "name": "python",
   "nbconvert_exporter": "python",
   "pygments_lexer": "ipython3",
   "version": "3.12.4"
  }
 },
 "nbformat": 4,
 "nbformat_minor": 5
}

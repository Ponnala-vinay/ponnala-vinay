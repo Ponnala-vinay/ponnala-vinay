{
 "cells": [
  {
   "cell_type": "code",
   "execution_count": 1,
   "id": "a4707cd9-c9c6-4688-92c5-d1fdbea4e0a2",
   "metadata": {},
   "outputs": [],
   "source": [
    "import os\n",
    "os.environ['MLFLOW_TRACKING_URI']='file:///Users/ponna/OneDrive/Desktop/dss'"
   ]
  },
  {
   "cell_type": "code",
   "execution_count": 5,
   "id": "54bf099b-6771-4d1d-9aad-80da193d8499",
   "metadata": {},
   "outputs": [
    {
     "name": "stdout",
     "output_type": "stream",
     "text": [
      "                             run_id       experiment_id    status  \\\n",
      "0  cab2730d77064e1fb988070b23672eae  450307008082722861  FINISHED   \n",
      "1  8eb94c6ecba54c9599044a8e8d2bf865  678669909162272662  FINISHED   \n",
      "2  b1a81182cde445f6a525b7d868faf14d  678669909162272662  FINISHED   \n",
      "3  6c99664881624a959feb09802a8fa7ed  367232359215941870  FINISHED   \n",
      "4  db0e5a642e184a3dacbcb51672e73534  367232359215941870    FAILED   \n",
      "5  1204258d72de4f4b82b2d5e368d37dac  367232359215941870    FAILED   \n",
      "6  7cccf56ad8ff439caabb240c2e635e5c  367232359215941870    FAILED   \n",
      "\n",
      "                                        artifact_uri  \\\n",
      "0  file:///C:/Users/ponna/OneDrive/Desktop/dss/45...   \n",
      "1  file:///C:/Users/ponna/OneDrive/Desktop/dss/67...   \n",
      "2  file:///C:/Users/ponna/OneDrive/Desktop/dss/67...   \n",
      "3  file:///C:/Users/ponna/OneDrive/Desktop/dss/36...   \n",
      "4  file:///C:/Users/ponna/OneDrive/Desktop/dss/36...   \n",
      "5  file:///C:/Users/ponna/OneDrive/Desktop/dss/36...   \n",
      "6  file:///C:/Users/ponna/OneDrive/Desktop/dss/36...   \n",
      "\n",
      "                        start_time                         end_time  \\\n",
      "0 2024-08-09 10:05:57.475000+00:00 2024-08-09 10:08:17.704000+00:00   \n",
      "1 2024-07-18 11:07:58.378000+00:00 2024-07-18 11:08:43.949000+00:00   \n",
      "2 2024-07-18 11:07:03.438000+00:00 2024-07-18 11:07:58.221000+00:00   \n",
      "3 2024-07-17 12:38:36.781000+00:00 2024-07-17 12:39:20.767000+00:00   \n",
      "4 2024-07-17 12:34:52.315000+00:00 2024-07-17 12:34:52.530000+00:00   \n",
      "5 2024-07-17 12:32:56.722000+00:00 2024-07-17 12:32:56.930000+00:00   \n",
      "6 2024-07-17 12:20:45.841000+00:00 2024-07-17 12:20:46.458000+00:00   \n",
      "\n",
      "   metrics.gbm_testing_score  metrics.gbm_training_score  \\\n",
      "0                   0.995736                    1.000000   \n",
      "1                  -0.084767                    0.999997   \n",
      "2                  -0.077283                    0.999997   \n",
      "3                        NaN                    1.000000   \n",
      "4                        NaN                         NaN   \n",
      "5                        NaN                         NaN   \n",
      "6                        NaN                         NaN   \n",
      "\n",
      "   metrics.rf_training_score  metrics.rf_testing_score  ...  \\\n",
      "0                   0.999733                  0.994670  ...   \n",
      "1                   0.801944                 -0.131860  ...   \n",
      "2                   0.800893                 -0.131001  ...   \n",
      "3                   1.000000                  1.000000  ...   \n",
      "4                        NaN                       NaN  ...   \n",
      "5                        NaN                       NaN  ...   \n",
      "6                        NaN                       NaN  ...   \n",
      "\n",
      "  params.rf_max_depth params.gbm_estimators params.gbm_learning_rate  \\\n",
      "0                   6                  3000                        6   \n",
      "1                   6                  None                     0.01   \n",
      "2                   6                  None                     0.01   \n",
      "3                   6                  None                     0.01   \n",
      "4                   6                  None                     0.01   \n",
      "5                None                  None                     None   \n",
      "6                None                  None                     None   \n",
      "\n",
      "  params.gbm_n_estimators params.gbm_max_depth  \\\n",
      "0                    None                 None   \n",
      "1                    3000                    6   \n",
      "2                    3000                    6   \n",
      "3                    3000                    6   \n",
      "4                    3000                    6   \n",
      "5                    None                 None   \n",
      "6                    None                 None   \n",
      "\n",
      "                             tags.mlflow.source.name   tags.mlflow.runName  \\\n",
      "0  C:\\Users\\ponna\\anaconda3\\Lib\\site-packages\\ipy...     resilient-bee-651   \n",
      "1  C:\\Users\\ponna\\anaconda3\\Lib\\site-packages\\ipy...    mysterious-lark-13   \n",
      "2  C:\\Users\\ponna\\anaconda3\\Lib\\site-packages\\ipy...       kindly-wolf-394   \n",
      "3  C:\\Users\\ponna\\anaconda3\\Lib\\site-packages\\ipy...      popular-swan-961   \n",
      "4  C:\\Users\\ponna\\anaconda3\\Lib\\site-packages\\ipy...       useful-loon-617   \n",
      "5  C:\\Users\\ponna\\anaconda3\\Lib\\site-packages\\ipy...      handsome-cat-632   \n",
      "6  C:\\Users\\ponna\\anaconda3\\Lib\\site-packages\\ipy...  omniscient-quail-467   \n",
      "\n",
      "  tags.mlflow.source.type                      tags.mlflow.log-model.history  \\\n",
      "0                   LOCAL  [{\"run_id\": \"cab2730d77064e1fb988070b23672eae\"...   \n",
      "1                   LOCAL  [{\"run_id\": \"8eb94c6ecba54c9599044a8e8d2bf865\"...   \n",
      "2                   LOCAL  [{\"run_id\": \"b1a81182cde445f6a525b7d868faf14d\"...   \n",
      "3                   LOCAL  [{\"run_id\": \"6c99664881624a959feb09802a8fa7ed\"...   \n",
      "4                   LOCAL                                               None   \n",
      "5                   LOCAL                                               None   \n",
      "6                   LOCAL                                               None   \n",
      "\n",
      "  tags.mlflow.user  \n",
      "0            ponna  \n",
      "1            ponna  \n",
      "2            ponna  \n",
      "3            ponna  \n",
      "4            ponna  \n",
      "5            ponna  \n",
      "6            ponna  \n",
      "\n",
      "[7 rows x 22 columns]\n"
     ]
    }
   ],
   "source": [
    "import mlflow\n",
    "all_runs=mlflow.search_runs(search_all_experiments=True)\n",
    "print(all_runs)"
   ]
  },
  {
   "cell_type": "code",
   "execution_count": null,
   "id": "c7edc864-3513-4aa2-91cf-7ce83e82089b",
   "metadata": {},
   "outputs": [],
   "source": [
    "!mlflow models serve -p 8200 -m runs:/cab2730d77064e1fb988070b23672eae/random-forest-model --no-conda"
   ]
  },
  {
   "cell_type": "code",
   "execution_count": null,
   "id": "e0b9ef5c-bdda-4399-b503-41f6283a708a",
   "metadata": {},
   "outputs": [],
   "source": []
  }
 ],
 "metadata": {
  "kernelspec": {
   "display_name": "Python 3 (ipykernel)",
   "language": "python",
   "name": "python3"
  },
  "language_info": {
   "codemirror_mode": {
    "name": "ipython",
    "version": 3
   },
   "file_extension": ".py",
   "mimetype": "text/x-python",
   "name": "python",
   "nbconvert_exporter": "python",
   "pygments_lexer": "ipython3",
   "version": "3.12.4"
  }
 },
 "nbformat": 4,
 "nbformat_minor": 5
}

{
  "cells": [
    {
      "cell_type": "markdown",
      "metadata": {
        "id": "79C00q__-C-r"
      },
      "source": [
        "# AWS_reviews_tfidf_vectorizer_sentiment_analysis"
      ]
    },
    {
      "cell_type": "markdown",
      "metadata": {
        "id": "lYflW9dBJcQq"
      },
      "source": [
        "# Import necessary Libraries"
      ]
    },
    {
      "cell_type": "code",
      "execution_count": 1,
      "metadata": {
        "id": "-ySby2wYYE_D"
      },
      "outputs": [],
      "source": [
        "import pandas as pd\n",
        "import numpy as np\n",
        "import os\n",
        "import re\n",
        "import random\n",
        "import pandas as pd"
      ]
    },
    {
      "cell_type": "markdown",
      "metadata": {
        "id": "7BMX7wrRJk-M"
      },
      "source": [
        "# Loading the file"
      ]
    },
    {
      "cell_type": "code",
      "execution_count": 2,
      "metadata": {
        "colab": {
          "base_uri": "https://localhost:8080/"
        },
        "id": "Sw-cN3bAYE_E",
        "outputId": "b4afeab0-8730-4fae-9237-2160f8081b46"
      },
      "outputs": [
        {
          "output_type": "stream",
          "name": "stdout",
          "text": [
            "Index(['Unnamed: 0', 'overall', 'verified', 'reviewTime', 'reviewerID', 'asin',\n",
            "       'style', 'reviewerName', 'reviewText', 'summary', 'unixReviewTime',\n",
            "       'vote', 'image'],\n",
            "      dtype='object')\n"
          ]
        }
      ],
      "source": [
        "import pandas as pd  # Import the pandas library for data manipulation and analysis\n",
        "\n",
        "chunk_size = 10000  # Define the size of each chunk to be read from the CSV file\n",
        "\n",
        "# Read the CSV file in chunks of 'chunk_size' rows at a time\n",
        "chunks = pd.read_csv(\"/content/aws_review_sofware_dataset.csv\", sep=',', chunksize=chunk_size)\n",
        "\n",
        "# Retrieve the first chunk from the iterable 'chunks'\n",
        "df = next(chunks)\n",
        "\n",
        "# Print the column names of the first chunk\n",
        "print(df.columns)\n"
      ]
    },
    {
      "cell_type": "markdown",
      "metadata": {
        "id": "vnePOVOtJQgK"
      },
      "source": []
    },
    {
      "cell_type": "code",
      "execution_count": 3,
      "metadata": {
        "colab": {
          "base_uri": "https://localhost:8080/"
        },
        "id": "SD-PmR2MYE_F",
        "outputId": "dd8748ee-49ef-49b7-fde6-6374e939cbfb"
      },
      "outputs": [
        {
          "output_type": "execute_result",
          "data": {
            "text/plain": [
              "Index(['Unnamed: 0', 'overall', 'verified', 'reviewTime', 'reviewerID', 'asin',\n",
              "       'style', 'reviewerName', 'reviewText', 'summary', 'unixReviewTime',\n",
              "       'vote', 'image'],\n",
              "      dtype='object')"
            ]
          },
          "metadata": {},
          "execution_count": 3
        }
      ],
      "source": [
        "df.columns  # Display the column names of the DataFrame 'df'"
      ]
    },
    {
      "cell_type": "markdown",
      "metadata": {
        "id": "zmAl6Y8_Kr5_"
      },
      "source": [
        "#  Prepare the raw data for analysis"
      ]
    },
    {
      "cell_type": "code",
      "execution_count": 4,
      "metadata": {
        "id": "atWDrfyUYE_F"
      },
      "outputs": [],
      "source": [
        "# Add a new column 'words' to the DataFrame 'df' and initialize it with the value 'default value'\n",
        "df[\"words\"] = \"default value\"\n",
        "\n",
        "# Add a new column 'sentences' to the DataFrame 'df' and initialize it with the value 'default value'\n",
        "df[\"sentences\"] = \"default value\"\n",
        "\n",
        "# Iterate over each row index in the DataFrame 'df'\n",
        "for i in range(df.shape[0]):\n",
        "    # Update the 'words' column of the current row to be an empty list\n",
        "    df.at[i, \"words\"] = list(\"\")\n",
        "    # Update the 'sentences' column of the current row to be an empty list\n",
        "    df.at[i, \"sentences\"] = list(\"\")\n",
        "\n"
      ]
    },
    {
      "cell_type": "markdown",
      "metadata": {
        "id": "zw-xbM83KXBT"
      },
      "source": [
        "# Tokenize the text"
      ]
    },
    {
      "cell_type": "code",
      "execution_count": 5,
      "metadata": {
        "id": "zsALDTknYE_F"
      },
      "outputs": [],
      "source": [
        "from nltk.tokenize import sent_tokenize"
      ]
    },
    {
      "cell_type": "code",
      "execution_count": 6,
      "metadata": {
        "colab": {
          "base_uri": "https://localhost:8080/"
        },
        "id": "IeA7EMMsYE_F",
        "outputId": "ee32a257-d15a-458b-8df0-81784610deb4"
      },
      "outputs": [
        {
          "output_type": "stream",
          "name": "stderr",
          "text": [
            "[nltk_data] Downloading package punkt to /root/nltk_data...\n",
            "[nltk_data]   Unzipping tokenizers/punkt.zip.\n"
          ]
        },
        {
          "output_type": "execute_result",
          "data": {
            "text/plain": [
              "True"
            ]
          },
          "metadata": {},
          "execution_count": 6
        }
      ],
      "source": [
        "import nltk\n",
        "nltk.download('punkt')\n"
      ]
    },
    {
      "cell_type": "code",
      "execution_count": 7,
      "metadata": {
        "id": "u5g8CZVaYE_F"
      },
      "outputs": [],
      "source": [
        "# Loop through the first 499 rows of the DataFrame 'df'\n",
        "for i in range(499):\n",
        "    # Tokenize the text in the 'reviewText' column for the current row into sentences\n",
        "    l1 = sent_tokenize(df.loc[i, \"reviewText\"])\n",
        "    # Assign the list of sentences to the 'sentences' column for the current row\n",
        "    df.at[i, \"sentences\"] = l1\n"
      ]
    },
    {
      "cell_type": "code",
      "execution_count": 8,
      "metadata": {
        "colab": {
          "base_uri": "https://localhost:8080/"
        },
        "id": "0t9fNAFfYE_F",
        "outputId": "4fce1121-bff0-42f8-e0f3-24c90fb75bb6"
      },
      "outputs": [
        {
          "output_type": "stream",
          "name": "stdout",
          "text": [
            "Collecting pywsd\n",
            "  Downloading pywsd-1.2.5-py3-none-any.whl.metadata (336 bytes)\n",
            "Requirement already satisfied: nltk in /usr/local/lib/python3.10/dist-packages (from pywsd) (3.8.1)\n",
            "Requirement already satisfied: numpy in /usr/local/lib/python3.10/dist-packages (from pywsd) (1.26.4)\n",
            "Requirement already satisfied: pandas in /usr/local/lib/python3.10/dist-packages (from pywsd) (2.1.4)\n",
            "Collecting wn==0.0.23 (from pywsd)\n",
            "  Downloading wn-0.0.23.tar.gz (31.6 MB)\n",
            "\u001b[2K     \u001b[90m━━━━━━━━━━━━━━━━━━━━━━━━━━━━━━━━━━━━━━━━\u001b[0m \u001b[32m31.6/31.6 MB\u001b[0m \u001b[31m14.2 MB/s\u001b[0m eta \u001b[36m0:00:00\u001b[0m\n",
            "\u001b[?25h  Preparing metadata (setup.py) ... \u001b[?25l\u001b[?25hdone\n",
            "Requirement already satisfied: six in /usr/local/lib/python3.10/dist-packages (from pywsd) (1.16.0)\n",
            "Requirement already satisfied: click in /usr/local/lib/python3.10/dist-packages (from nltk->pywsd) (8.1.7)\n",
            "Requirement already satisfied: joblib in /usr/local/lib/python3.10/dist-packages (from nltk->pywsd) (1.4.2)\n",
            "Requirement already satisfied: regex>=2021.8.3 in /usr/local/lib/python3.10/dist-packages (from nltk->pywsd) (2024.5.15)\n",
            "Requirement already satisfied: tqdm in /usr/local/lib/python3.10/dist-packages (from nltk->pywsd) (4.66.5)\n",
            "Requirement already satisfied: python-dateutil>=2.8.2 in /usr/local/lib/python3.10/dist-packages (from pandas->pywsd) (2.8.2)\n",
            "Requirement already satisfied: pytz>=2020.1 in /usr/local/lib/python3.10/dist-packages (from pandas->pywsd) (2024.1)\n",
            "Requirement already satisfied: tzdata>=2022.1 in /usr/local/lib/python3.10/dist-packages (from pandas->pywsd) (2024.1)\n",
            "Downloading pywsd-1.2.5-py3-none-any.whl (26.9 MB)\n",
            "\u001b[2K   \u001b[90m━━━━━━━━━━━━━━━━━━━━━━━━━━━━━━━━━━━━━━━━\u001b[0m \u001b[32m26.9/26.9 MB\u001b[0m \u001b[31m13.5 MB/s\u001b[0m eta \u001b[36m0:00:00\u001b[0m\n",
            "\u001b[?25hBuilding wheels for collected packages: wn\n",
            "  Building wheel for wn (setup.py) ... \u001b[?25l\u001b[?25hdone\n",
            "  Created wheel for wn: filename=wn-0.0.23-py3-none-any.whl size=31792912 sha256=784c724b3a3ac2a18c66afb9f6e288cea19de183bfd2d149dd7772ca52f8d961\n",
            "  Stored in directory: /root/.cache/pip/wheels/a1/1a/7d/23a76ce45998af60e47466a694c237fa26023c5674b47672b2\n",
            "Successfully built wn\n",
            "Installing collected packages: wn, pywsd\n",
            "Successfully installed pywsd-1.2.5 wn-0.0.23\n"
          ]
        }
      ],
      "source": [
        "!pip install pywsd"
      ]
    },
    {
      "cell_type": "code",
      "execution_count": 9,
      "metadata": {
        "colab": {
          "base_uri": "https://localhost:8080/"
        },
        "id": "QznxEpGDYE_F",
        "outputId": "80f723c0-c6d2-4fc4-f430-da07a71d4b66"
      },
      "outputs": [
        {
          "output_type": "stream",
          "name": "stderr",
          "text": [
            "[nltk_data] Downloading package averaged_perceptron_tagger to\n",
            "[nltk_data]     /root/nltk_data...\n",
            "[nltk_data]   Unzipping taggers/averaged_perceptron_tagger.zip.\n"
          ]
        },
        {
          "output_type": "execute_result",
          "data": {
            "text/plain": [
              "True"
            ]
          },
          "metadata": {},
          "execution_count": 9
        }
      ],
      "source": [
        "# Importing the Natural Language Toolkit (nltk) package\n",
        "import nltk\n",
        "nltk.download('averaged_perceptron_tagger')  # Downloading the 'averaged_perceptron_tagger' model from nltk's data repository"
      ]
    },
    {
      "cell_type": "code",
      "execution_count": 10,
      "metadata": {
        "colab": {
          "base_uri": "https://localhost:8080/"
        },
        "id": "X68MrVcDZHhu",
        "outputId": "42235fec-e472-43d4-8451-d8e0717449b6"
      },
      "outputs": [
        {
          "output_type": "stream",
          "name": "stderr",
          "text": [
            "[nltk_data] Downloading package wordnet to /root/nltk_data...\n"
          ]
        },
        {
          "output_type": "execute_result",
          "data": {
            "text/plain": [
              "True"
            ]
          },
          "metadata": {},
          "execution_count": 10
        }
      ],
      "source": [
        "# Importing the Natural Language Toolkit (nltk) package\n",
        "import nltk\n",
        "\n",
        "# Downloading the 'wordnet' lexical database from nltk\n",
        "# WordNet is a large lexical database of English, which groups words into sets of synonyms (synsets) and provides definitions and relationships between these words (e.g., antonyms, hyponyms)\n",
        "nltk.download('wordnet')\n"
      ]
    },
    {
      "cell_type": "code",
      "execution_count": 11,
      "metadata": {
        "colab": {
          "base_uri": "https://localhost:8080/"
        },
        "id": "rr_bhX6BYE_G",
        "outputId": "3369a1fe-889c-4f38-9585-b1a9814f8d32"
      },
      "outputs": [
        {
          "output_type": "stream",
          "name": "stderr",
          "text": [
            "Warming up PyWSD (takes ~10 secs)... took 7.841409921646118 secs.\n"
          ]
        }
      ],
      "source": [
        "from pywsd.utils import lemmatize_sentence  # Importing the lemmatize_sentence function from pywsd (Python Word Sense Disambiguation)"
      ]
    },
    {
      "cell_type": "code",
      "execution_count": 12,
      "metadata": {
        "colab": {
          "base_uri": "https://localhost:8080/"
        },
        "id": "fisTNuelYE_G",
        "outputId": "085309c7-f184-43bb-c807-b95256e20d5c"
      },
      "outputs": [
        {
          "output_type": "stream",
          "name": "stderr",
          "text": [
            "[nltk_data] Downloading package wordnet to /root/nltk_data...\n",
            "[nltk_data]   Package wordnet is already up-to-date!\n"
          ]
        },
        {
          "output_type": "execute_result",
          "data": {
            "text/plain": [
              "True"
            ]
          },
          "metadata": {},
          "execution_count": 12
        }
      ],
      "source": [
        "import nltk\n",
        "nltk.download('wordnet')"
      ]
    },
    {
      "cell_type": "markdown",
      "metadata": {
        "id": "yd4kef7ExIuY"
      },
      "source": [
        "# lemmatization of sentence"
      ]
    },
    {
      "cell_type": "code",
      "execution_count": 13,
      "metadata": {
        "id": "ZCemT1CyYE_G"
      },
      "outputs": [],
      "source": [
        "# Iterating through each row in the DataFrame\n",
        "for k in range(df.shape[0]):\n",
        "    # Initialize the 'words' column as an empty list for the current row\n",
        "    df.at[k, \"words\"] = list(\"\")\n",
        "\n",
        "    # Looping through each sentence in the 'sentences' column for the current row\n",
        "    for j in range(len(df.loc[k, \"sentences\"])):\n",
        "        # Lemmatize the sentence and extend the 'words' list by adding the lemmatized words\n",
        "        # The lemmatize_sentence function returns a list of words, so we use .extend() to add them to the existing list\n",
        "        df.at[k, \"words\"].extend(lemmatize_sentence(df.loc[k, \"sentences\"][j]))\n"
      ]
    },
    {
      "cell_type": "code",
      "execution_count": 14,
      "metadata": {
        "id": "2SOt2oo7YE_G"
      },
      "outputs": [],
      "source": [
        "# Assigning a default value of \"default\" to a new column 'words_sentences' in the DataFrame\n",
        "df[\"words_sentences\"] = \"default\"\n"
      ]
    },
    {
      "cell_type": "code",
      "execution_count": 15,
      "metadata": {
        "id": "RXeRLv35YE_G"
      },
      "outputs": [],
      "source": [
        "import functools\n",
        "\n",
        "# Iterate through the DataFrame\n",
        "for k in range(df.shape[0]):\n",
        "    words = df.loc[k, \"words\"]\n",
        "    # Check if words is empty and handle accordingly\n",
        "    if words:\n",
        "        # Join the words into a single string\n",
        "        df.loc[k, \"words_sentences\"] = functools.reduce(lambda a, b: str(a) + \" \" + str(b), words)\n",
        "    else:\n",
        "        # If the list is empty, set the column to an empty string or some default value\n",
        "        df.loc[k, \"words_sentences\"] = \"\"\n"
      ]
    },
    {
      "cell_type": "markdown",
      "metadata": {
        "id": "b5yGtA8QsKt_"
      },
      "source": [
        "# TFIDF Vectorization"
      ]
    },
    {
      "cell_type": "code",
      "execution_count": 16,
      "metadata": {
        "id": "fzINpxnWYE_G"
      },
      "outputs": [],
      "source": [
        "from sklearn.feature_extraction.text import TfidfVectorizer  # Importing the TfidfVectorizer from the sklearn.feature_extraction.text module"
      ]
    },
    {
      "cell_type": "code",
      "execution_count": 17,
      "metadata": {
        "id": "bpOajGk8YE_G"
      },
      "outputs": [],
      "source": [
        "# Creating an instance of TfidfVectorizer with stop words removed\n",
        "tfidf_vectorizer = TfidfVectorizer(stop_words='english')\n",
        "# Fitting the vectorizer on the 'words_sentences' column in the DataFrame and transforming it into a TF-IDF matrix\n",
        "tfidf_matrix = tfidf_vectorizer.fit_transform(df.words_sentences)"
      ]
    },
    {
      "cell_type": "code",
      "execution_count": 18,
      "metadata": {
        "id": "9RSjqqJBYE_G"
      },
      "outputs": [],
      "source": [
        "# Creating a DataFrame from the dense matrix for better readability and manipulation\n",
        "dense = pd.DataFrame(tfidf_matrix.todense(), columns=tfidf_vectorizer.get_feature_names_out())"
      ]
    },
    {
      "cell_type": "code",
      "execution_count": 19,
      "metadata": {
        "id": "VY4EPPbcYE_G"
      },
      "outputs": [],
      "source": [
        "# Extract the 'verified' column from the DataFrame and assign it to df_y\n",
        "df_y = df[\"verified\"]\n"
      ]
    },
    {
      "cell_type": "code",
      "execution_count": 20,
      "metadata": {
        "id": "2p4Si3XoYE_H"
      },
      "outputs": [],
      "source": [
        "from sklearn.preprocessing import LabelEncoder"
      ]
    },
    {
      "cell_type": "code",
      "execution_count": 21,
      "metadata": {
        "id": "000mn2spYE_H"
      },
      "outputs": [],
      "source": [
        "\n",
        "# Create an instance of LabelEncoder\n",
        "le=LabelEncoder()"
      ]
    },
    {
      "cell_type": "code",
      "execution_count": 22,
      "metadata": {
        "id": "sTthyG2zYE_H"
      },
      "outputs": [],
      "source": [
        "df_y_1=pd.DataFrame(df_y)\n",
        "# Convert the Series df_y to a DataFrame"
      ]
    },
    {
      "cell_type": "code",
      "execution_count": 23,
      "metadata": {
        "id": "QDrES4TYYE_H"
      },
      "outputs": [],
      "source": [
        "df_y_enc=df_y_1.apply(le.fit_transform)\n",
        "# Apply LabelEncoder to each column of df_y_1"
      ]
    },
    {
      "cell_type": "code",
      "execution_count": 24,
      "metadata": {
        "colab": {
          "base_uri": "https://localhost:8080/",
          "height": 206
        },
        "id": "X8FN3WBLYE_H",
        "outputId": "5d9209a5-9e0c-44f3-beb5-834b8b8abb24"
      },
      "outputs": [
        {
          "output_type": "execute_result",
          "data": {
            "text/plain": [
              "   verified\n",
              "0         1\n",
              "1         1\n",
              "2         1\n",
              "3         1\n",
              "4         0"
            ],
            "text/html": [
              "\n",
              "  <div id=\"df-343c4053-be29-4d83-83b6-91b10e6d1e62\" class=\"colab-df-container\">\n",
              "    <div>\n",
              "<style scoped>\n",
              "    .dataframe tbody tr th:only-of-type {\n",
              "        vertical-align: middle;\n",
              "    }\n",
              "\n",
              "    .dataframe tbody tr th {\n",
              "        vertical-align: top;\n",
              "    }\n",
              "\n",
              "    .dataframe thead th {\n",
              "        text-align: right;\n",
              "    }\n",
              "</style>\n",
              "<table border=\"1\" class=\"dataframe\">\n",
              "  <thead>\n",
              "    <tr style=\"text-align: right;\">\n",
              "      <th></th>\n",
              "      <th>verified</th>\n",
              "    </tr>\n",
              "  </thead>\n",
              "  <tbody>\n",
              "    <tr>\n",
              "      <th>0</th>\n",
              "      <td>1</td>\n",
              "    </tr>\n",
              "    <tr>\n",
              "      <th>1</th>\n",
              "      <td>1</td>\n",
              "    </tr>\n",
              "    <tr>\n",
              "      <th>2</th>\n",
              "      <td>1</td>\n",
              "    </tr>\n",
              "    <tr>\n",
              "      <th>3</th>\n",
              "      <td>1</td>\n",
              "    </tr>\n",
              "    <tr>\n",
              "      <th>4</th>\n",
              "      <td>0</td>\n",
              "    </tr>\n",
              "  </tbody>\n",
              "</table>\n",
              "</div>\n",
              "    <div class=\"colab-df-buttons\">\n",
              "\n",
              "  <div class=\"colab-df-container\">\n",
              "    <button class=\"colab-df-convert\" onclick=\"convertToInteractive('df-343c4053-be29-4d83-83b6-91b10e6d1e62')\"\n",
              "            title=\"Convert this dataframe to an interactive table.\"\n",
              "            style=\"display:none;\">\n",
              "\n",
              "  <svg xmlns=\"http://www.w3.org/2000/svg\" height=\"24px\" viewBox=\"0 -960 960 960\">\n",
              "    <path d=\"M120-120v-720h720v720H120Zm60-500h600v-160H180v160Zm220 220h160v-160H400v160Zm0 220h160v-160H400v160ZM180-400h160v-160H180v160Zm440 0h160v-160H620v160ZM180-180h160v-160H180v160Zm440 0h160v-160H620v160Z\"/>\n",
              "  </svg>\n",
              "    </button>\n",
              "\n",
              "  <style>\n",
              "    .colab-df-container {\n",
              "      display:flex;\n",
              "      gap: 12px;\n",
              "    }\n",
              "\n",
              "    .colab-df-convert {\n",
              "      background-color: #E8F0FE;\n",
              "      border: none;\n",
              "      border-radius: 50%;\n",
              "      cursor: pointer;\n",
              "      display: none;\n",
              "      fill: #1967D2;\n",
              "      height: 32px;\n",
              "      padding: 0 0 0 0;\n",
              "      width: 32px;\n",
              "    }\n",
              "\n",
              "    .colab-df-convert:hover {\n",
              "      background-color: #E2EBFA;\n",
              "      box-shadow: 0px 1px 2px rgba(60, 64, 67, 0.3), 0px 1px 3px 1px rgba(60, 64, 67, 0.15);\n",
              "      fill: #174EA6;\n",
              "    }\n",
              "\n",
              "    .colab-df-buttons div {\n",
              "      margin-bottom: 4px;\n",
              "    }\n",
              "\n",
              "    [theme=dark] .colab-df-convert {\n",
              "      background-color: #3B4455;\n",
              "      fill: #D2E3FC;\n",
              "    }\n",
              "\n",
              "    [theme=dark] .colab-df-convert:hover {\n",
              "      background-color: #434B5C;\n",
              "      box-shadow: 0px 1px 3px 1px rgba(0, 0, 0, 0.15);\n",
              "      filter: drop-shadow(0px 1px 2px rgba(0, 0, 0, 0.3));\n",
              "      fill: #FFFFFF;\n",
              "    }\n",
              "  </style>\n",
              "\n",
              "    <script>\n",
              "      const buttonEl =\n",
              "        document.querySelector('#df-343c4053-be29-4d83-83b6-91b10e6d1e62 button.colab-df-convert');\n",
              "      buttonEl.style.display =\n",
              "        google.colab.kernel.accessAllowed ? 'block' : 'none';\n",
              "\n",
              "      async function convertToInteractive(key) {\n",
              "        const element = document.querySelector('#df-343c4053-be29-4d83-83b6-91b10e6d1e62');\n",
              "        const dataTable =\n",
              "          await google.colab.kernel.invokeFunction('convertToInteractive',\n",
              "                                                    [key], {});\n",
              "        if (!dataTable) return;\n",
              "\n",
              "        const docLinkHtml = 'Like what you see? Visit the ' +\n",
              "          '<a target=\"_blank\" href=https://colab.research.google.com/notebooks/data_table.ipynb>data table notebook</a>'\n",
              "          + ' to learn more about interactive tables.';\n",
              "        element.innerHTML = '';\n",
              "        dataTable['output_type'] = 'display_data';\n",
              "        await google.colab.output.renderOutput(dataTable, element);\n",
              "        const docLink = document.createElement('div');\n",
              "        docLink.innerHTML = docLinkHtml;\n",
              "        element.appendChild(docLink);\n",
              "      }\n",
              "    </script>\n",
              "  </div>\n",
              "\n",
              "\n",
              "<div id=\"df-ee5eaa8d-3700-4690-83b4-10041ded4a6b\">\n",
              "  <button class=\"colab-df-quickchart\" onclick=\"quickchart('df-ee5eaa8d-3700-4690-83b4-10041ded4a6b')\"\n",
              "            title=\"Suggest charts\"\n",
              "            style=\"display:none;\">\n",
              "\n",
              "<svg xmlns=\"http://www.w3.org/2000/svg\" height=\"24px\"viewBox=\"0 0 24 24\"\n",
              "     width=\"24px\">\n",
              "    <g>\n",
              "        <path d=\"M19 3H5c-1.1 0-2 .9-2 2v14c0 1.1.9 2 2 2h14c1.1 0 2-.9 2-2V5c0-1.1-.9-2-2-2zM9 17H7v-7h2v7zm4 0h-2V7h2v10zm4 0h-2v-4h2v4z\"/>\n",
              "    </g>\n",
              "</svg>\n",
              "  </button>\n",
              "\n",
              "<style>\n",
              "  .colab-df-quickchart {\n",
              "      --bg-color: #E8F0FE;\n",
              "      --fill-color: #1967D2;\n",
              "      --hover-bg-color: #E2EBFA;\n",
              "      --hover-fill-color: #174EA6;\n",
              "      --disabled-fill-color: #AAA;\n",
              "      --disabled-bg-color: #DDD;\n",
              "  }\n",
              "\n",
              "  [theme=dark] .colab-df-quickchart {\n",
              "      --bg-color: #3B4455;\n",
              "      --fill-color: #D2E3FC;\n",
              "      --hover-bg-color: #434B5C;\n",
              "      --hover-fill-color: #FFFFFF;\n",
              "      --disabled-bg-color: #3B4455;\n",
              "      --disabled-fill-color: #666;\n",
              "  }\n",
              "\n",
              "  .colab-df-quickchart {\n",
              "    background-color: var(--bg-color);\n",
              "    border: none;\n",
              "    border-radius: 50%;\n",
              "    cursor: pointer;\n",
              "    display: none;\n",
              "    fill: var(--fill-color);\n",
              "    height: 32px;\n",
              "    padding: 0;\n",
              "    width: 32px;\n",
              "  }\n",
              "\n",
              "  .colab-df-quickchart:hover {\n",
              "    background-color: var(--hover-bg-color);\n",
              "    box-shadow: 0 1px 2px rgba(60, 64, 67, 0.3), 0 1px 3px 1px rgba(60, 64, 67, 0.15);\n",
              "    fill: var(--button-hover-fill-color);\n",
              "  }\n",
              "\n",
              "  .colab-df-quickchart-complete:disabled,\n",
              "  .colab-df-quickchart-complete:disabled:hover {\n",
              "    background-color: var(--disabled-bg-color);\n",
              "    fill: var(--disabled-fill-color);\n",
              "    box-shadow: none;\n",
              "  }\n",
              "\n",
              "  .colab-df-spinner {\n",
              "    border: 2px solid var(--fill-color);\n",
              "    border-color: transparent;\n",
              "    border-bottom-color: var(--fill-color);\n",
              "    animation:\n",
              "      spin 1s steps(1) infinite;\n",
              "  }\n",
              "\n",
              "  @keyframes spin {\n",
              "    0% {\n",
              "      border-color: transparent;\n",
              "      border-bottom-color: var(--fill-color);\n",
              "      border-left-color: var(--fill-color);\n",
              "    }\n",
              "    20% {\n",
              "      border-color: transparent;\n",
              "      border-left-color: var(--fill-color);\n",
              "      border-top-color: var(--fill-color);\n",
              "    }\n",
              "    30% {\n",
              "      border-color: transparent;\n",
              "      border-left-color: var(--fill-color);\n",
              "      border-top-color: var(--fill-color);\n",
              "      border-right-color: var(--fill-color);\n",
              "    }\n",
              "    40% {\n",
              "      border-color: transparent;\n",
              "      border-right-color: var(--fill-color);\n",
              "      border-top-color: var(--fill-color);\n",
              "    }\n",
              "    60% {\n",
              "      border-color: transparent;\n",
              "      border-right-color: var(--fill-color);\n",
              "    }\n",
              "    80% {\n",
              "      border-color: transparent;\n",
              "      border-right-color: var(--fill-color);\n",
              "      border-bottom-color: var(--fill-color);\n",
              "    }\n",
              "    90% {\n",
              "      border-color: transparent;\n",
              "      border-bottom-color: var(--fill-color);\n",
              "    }\n",
              "  }\n",
              "</style>\n",
              "\n",
              "  <script>\n",
              "    async function quickchart(key) {\n",
              "      const quickchartButtonEl =\n",
              "        document.querySelector('#' + key + ' button');\n",
              "      quickchartButtonEl.disabled = true;  // To prevent multiple clicks.\n",
              "      quickchartButtonEl.classList.add('colab-df-spinner');\n",
              "      try {\n",
              "        const charts = await google.colab.kernel.invokeFunction(\n",
              "            'suggestCharts', [key], {});\n",
              "      } catch (error) {\n",
              "        console.error('Error during call to suggestCharts:', error);\n",
              "      }\n",
              "      quickchartButtonEl.classList.remove('colab-df-spinner');\n",
              "      quickchartButtonEl.classList.add('colab-df-quickchart-complete');\n",
              "    }\n",
              "    (() => {\n",
              "      let quickchartButtonEl =\n",
              "        document.querySelector('#df-ee5eaa8d-3700-4690-83b4-10041ded4a6b button');\n",
              "      quickchartButtonEl.style.display =\n",
              "        google.colab.kernel.accessAllowed ? 'block' : 'none';\n",
              "    })();\n",
              "  </script>\n",
              "</div>\n",
              "\n",
              "    </div>\n",
              "  </div>\n"
            ],
            "application/vnd.google.colaboratory.intrinsic+json": {
              "type": "dataframe",
              "variable_name": "df_y_enc",
              "summary": "{\n  \"name\": \"df_y_enc\",\n  \"rows\": 10000,\n  \"fields\": [\n    {\n      \"column\": \"verified\",\n      \"properties\": {\n        \"dtype\": \"number\",\n        \"std\": 0,\n        \"min\": 0,\n        \"max\": 1,\n        \"num_unique_values\": 2,\n        \"samples\": [\n          0,\n          1\n        ],\n        \"semantic_type\": \"\",\n        \"description\": \"\"\n      }\n    }\n  ]\n}"
            }
          },
          "metadata": {},
          "execution_count": 24
        }
      ],
      "source": [
        "df_y_enc.head(5)"
      ]
    },
    {
      "cell_type": "markdown",
      "metadata": {
        "id": "bgxpjEqDw0hK"
      },
      "source": [
        "# Random Forest Classifier"
      ]
    },
    {
      "cell_type": "code",
      "execution_count": 25,
      "metadata": {
        "colab": {
          "base_uri": "https://localhost:8080/"
        },
        "id": "Seu63-HQ4VSc",
        "outputId": "c0903a68-afa5-432b-8799-64661eea0e1f"
      },
      "outputs": [
        {
          "output_type": "stream",
          "name": "stderr",
          "text": [
            "/usr/local/lib/python3.10/dist-packages/sklearn/base.py:1152: DataConversionWarning: A column-vector y was passed when a 1d array was expected. Please change the shape of y to (n_samples,), for example using ravel().\n",
            "  return fit_method(estimator, *args, **kwargs)\n"
          ]
        },
        {
          "output_type": "stream",
          "name": "stdout",
          "text": [
            "Random Forest Accuracy: 64.15%\n"
          ]
        }
      ],
      "source": [
        "from sklearn.ensemble import RandomForestClassifier\n",
        "from sklearn.metrics import accuracy_score\n",
        "# Initialize Random Forest Classifier\n",
        "rf = RandomForestClassifier(n_estimators=500, random_state=42)\n",
        "\n",
        "# Fit the Random Forest model\n",
        "rf.fit(dense, df_y_enc)\n",
        "\n",
        "# Accuracy\n",
        "accuracy_rf = rf.score(dense, df_y_enc)\n",
        "print(f\"Random Forest Accuracy: {accuracy_rf * 100:.2f}%\")\n",
        "\n"
      ]
    },
    {
      "cell_type": "markdown",
      "metadata": {
        "id": "TDBuQCg5w4o2"
      },
      "source": [
        "# Naive Bayes"
      ]
    },
    {
      "cell_type": "code",
      "execution_count": 26,
      "metadata": {
        "colab": {
          "base_uri": "https://localhost:8080/"
        },
        "id": "OR02OYjz7qUV",
        "outputId": "a670c51f-9ec5-4a9f-c183-0379b1428cfc"
      },
      "outputs": [
        {
          "output_type": "stream",
          "name": "stdout",
          "text": [
            "Naive Bayes Accuracy: 63.64%\n"
          ]
        },
        {
          "output_type": "stream",
          "name": "stderr",
          "text": [
            "/usr/local/lib/python3.10/dist-packages/sklearn/utils/validation.py:1183: DataConversionWarning: A column-vector y was passed when a 1d array was expected. Please change the shape of y to (n_samples, ), for example using ravel().\n",
            "  y = column_or_1d(y, warn=True)\n"
          ]
        }
      ],
      "source": [
        "from sklearn.naive_bayes import MultinomialNB\n",
        "# Import the Multinomial Naive Bayes classifier from Scikit-Learn.\n",
        "\n",
        "nb = MultinomialNB()\n",
        "# Initialize an instance of the Multinomial Naive Bayes classifier.\n",
        "\n",
        "nb.fit(dense, df_y_enc)\n",
        "# Train the Naive Bayes model using the feature matrix 'dense' and the target labels 'df_y_enc'.\n",
        "\n",
        "# Compute accuracy\n",
        "accuracy_nb = nb.score(dense, df_y_enc)\n",
        "# Calculate the accuracy of the trained model on the training data.\n",
        "\n",
        "print(f\"Naive Bayes Accuracy: {accuracy_nb * 100:.2f}%\")\n",
        "# Print the accuracy as a percentage, formatted to two decimal places.\n",
        "\n"
      ]
    },
    {
      "cell_type": "markdown",
      "metadata": {
        "id": "Tz0HZ1yKw8uy"
      },
      "source": [
        "# Gradient Boosting Classifier"
      ]
    },
    {
      "cell_type": "code",
      "execution_count": 27,
      "metadata": {
        "id": "EGIUGk3yYE_H"
      },
      "outputs": [],
      "source": [
        "from sklearn.ensemble import GradientBoostingClassifier\n",
        "# Import the Gradient Boosting Classifier from Scikit-Learn's ensemble module.\n"
      ]
    },
    {
      "cell_type": "code",
      "execution_count": 28,
      "metadata": {
        "id": "Y84rHhbPYE_H"
      },
      "outputs": [],
      "source": [
        "GBC = GradientBoostingClassifier(n_estimators=1000)\n",
        "# Initialize the Gradient Boosting Classifier with 1000 decision trees (estimators).\n"
      ]
    },
    {
      "cell_type": "code",
      "execution_count": null,
      "metadata": {
        "colab": {
          "base_uri": "https://localhost:8080/"
        },
        "id": "OC3vdsR6YE_H",
        "outputId": "bddad5b4-88df-4a7c-f21b-ca5b1d537d55"
      },
      "outputs": [
        {
          "output_type": "stream",
          "name": "stderr",
          "text": [
            "/usr/local/lib/python3.10/dist-packages/sklearn/ensemble/_gb.py:424: DataConversionWarning: A column-vector y was passed when a 1d array was expected. Please change the shape of y to (n_samples, ), for example using ravel().\n",
            "  y = column_or_1d(y, warn=True)\n"
          ]
        }
      ],
      "source": [
        "gb_c = GBC.fit(dense, df_y_enc)\n",
        "# Train the Gradient Boosting Classifier using the feature matrix 'dense' and the target labels 'df_y_enc'."
      ]
    },
    {
      "cell_type": "code",
      "execution_count": null,
      "metadata": {
        "id": "cQSJdkb8YE_H"
      },
      "outputs": [],
      "source": [
        "# Calculate the accuracy of the trained Gradient Boosting Classifier on the training data.\n",
        "gbc_score=GBC.score(dense, df_y_enc)\n",
        "print(f\"gbc_score: {gbc_score* 100:.2f}%\")"
      ]
    }
  ],
  "metadata": {
    "accelerator": "GPU",
    "colab": {
      "gpuType": "T4",
      "provenance": []
    },
    "kernelspec": {
      "display_name": "Python 3 (ipykernel)",
      "language": "python",
      "name": "python3"
    },
    "language_info": {
      "codemirror_mode": {
        "name": "ipython",
        "version": 3
      },
      "file_extension": ".py",
      "mimetype": "text/x-python",
      "name": "python",
      "nbconvert_exporter": "python",
      "pygments_lexer": "ipython3",
      "version": "3.12.4"
    }
  },
  "nbformat": 4,
  "nbformat_minor": 0
}